{
 "cells": [
  {
   "cell_type": "markdown",
   "id": "58eb6538",
   "metadata": {},
   "source": [
    "# Python EMI Assignment"
   ]
  },
  {
   "cell_type": "code",
   "execution_count": null,
   "id": "21a8fb08",
   "metadata": {},
   "outputs": [],
   "source": [
    "import math"
   ]
  },
  {
   "cell_type": "code",
   "execution_count": 2,
   "id": "95dc2548",
   "metadata": {},
   "outputs": [
    {
     "name": "stdout",
     "output_type": "stream",
     "text": [
      "Requirement already satisfied: numpy-financial in /Users/abhishek/opt/anaconda3/lib/python3.9/site-packages (1.0.0)\n",
      "Requirement already satisfied: numpy>=1.15 in /Users/abhishek/opt/anaconda3/lib/python3.9/site-packages (from numpy-financial) (1.21.5)\n"
     ]
    }
   ],
   "source": [
    "!pip install numpy-financial\n",
    "import numpy_financial as npf"
   ]
  },
  {
   "cell_type": "code",
   "execution_count": 3,
   "id": "9a1577ad",
   "metadata": {},
   "outputs": [],
   "source": [
    "def calculate_principal(rate, emi, tenure):\n",
    "    return (emi/rate)*(1 - (1/(1+rate)**tenure))"
   ]
  },
  {
   "cell_type": "code",
   "execution_count": 4,
   "id": "f5b29c8b",
   "metadata": {},
   "outputs": [],
   "source": [
    "def calculate_emi(principal, rate, tenure):\n",
    "    return (principal * rate  * ( (1+rate)**tenure)) / ( ((1+rate)**tenure) - 1)"
   ]
  },
  {
   "cell_type": "markdown",
   "id": "ca090b7d",
   "metadata": {},
   "source": [
    "### 1.    Let’s calculate the Home Loan EMI now using Python code. Principal Amount 50Lakhs, Rate of interest 8%, and Loan repayment tenure is 15 years. Find the EMI to be paid?"
   ]
  },
  {
   "cell_type": "code",
   "execution_count": 5,
   "id": "51e176a8",
   "metadata": {},
   "outputs": [
    {
     "name": "stdout",
     "output_type": "stream",
     "text": [
      "Monthly EMI to be paid - 47783\n"
     ]
    }
   ],
   "source": [
    "principal = 5000000\n",
    "rate = 8/1200 #monthly rate = (rate/12)/100\n",
    "tenure = 15*12 #tenure in months\n",
    "emi = calculate_emi(principal, rate, tenure)\n",
    "print('Monthly EMI to be paid -',round(emi))"
   ]
  },
  {
   "cell_type": "markdown",
   "id": "d8537023",
   "metadata": {},
   "source": [
    "### 2.    If the interest rate increases to 10%, and you cannot pay more than 30,000 as EMI, find the maximum amount of Loan you can take/afford for the same period?"
   ]
  },
  {
   "cell_type": "code",
   "execution_count": 6,
   "id": "1c565763",
   "metadata": {},
   "outputs": [
    {
     "name": "stdout",
     "output_type": "stream",
     "text": [
      "Maximum loan amount with the mentioned parameters - 2791724\n"
     ]
    }
   ],
   "source": [
    "rate = 10/1200\n",
    "emi = 30000\n",
    "tenure = 15*12\n",
    "principal = calculate_principal(rate, emi, tenure)\n",
    "print('Maximum loan amount with the mentioned parameters -',math.ceil(principal))"
   ]
  },
  {
   "cell_type": "markdown",
   "id": "f6ab7d36",
   "metadata": {},
   "source": [
    "### 3.    For the Que 1. what is the total interest paid by you year-wise (from the 1st year to the 15th year). Also, what is the total cumulative interest paid by you in 15 years?"
   ]
  },
  {
   "cell_type": "code",
   "execution_count": 7,
   "id": "6e455bb4",
   "metadata": {},
   "outputs": [
    {
     "name": "stdout",
     "output_type": "stream",
     "text": [
      "Interest paid in 1 year is 393494\n",
      "Interest paid in 2 year is 378561\n",
      "Interest paid in 3 year is 362391\n",
      "Interest paid in 4 year is 344880\n",
      "Interest paid in 5 year is 325913\n",
      "Interest paid in 6 year is 305373\n",
      "Interest paid in 7 year is 283127\n",
      "Interest paid in 8 year is 259037\n",
      "Interest paid in 9 year is 232947\n",
      "Interest paid in 10 year is 204689\n",
      "Interest paid in 11 year is 174087\n",
      "Interest paid in 12 year is 140947\n",
      "Interest paid in 13 year is 105056\n",
      "Interest paid in 14 year is 66186\n",
      "Interest paid in 15 year is 24086\n",
      "\n",
      "Total Cumulative Interest - 3600774\n"
     ]
    }
   ],
   "source": [
    "principal = 5000000\n",
    "rate = 8/1200 \n",
    "tenure = 15*12 \n",
    "interest = []\n",
    "counter = 0\n",
    "cum_interest = 0\n",
    "for i in range(tenure):\n",
    "    counter += 1\n",
    "    interest.append(math.floor(npf.ipmt(rate, i+1, tenure, -principal)))\n",
    "\n",
    "    if counter % 12 == 0:\n",
    "        print('Interest paid in '+str(int(counter/12))+' year is '+str(round(sum(interest))))\n",
    "        cum_interest = cum_interest + round(sum(interest))\n",
    "        interest = []\n",
    "print(\"\")        \n",
    "print('Total Cumulative Interest - '+str(cum_interest))"
   ]
  },
  {
   "cell_type": "markdown",
   "id": "747529fd",
   "metadata": {},
   "source": [
    "### 4.    For the Que 1., in how many months would you have paid atleast 50% of the Principal amount."
   ]
  },
  {
   "cell_type": "code",
   "execution_count": 8,
   "id": "51d49fbf",
   "metadata": {},
   "outputs": [
    {
     "name": "stdout",
     "output_type": "stream",
     "text": [
      "Months required to pay atleast 50% of the Principal amount - 116\n"
     ]
    }
   ],
   "source": [
    "principal = 5000000\n",
    "rate = 8/1200 \n",
    "tenure = 15*12\n",
    "count = 0\n",
    "tot = 0\n",
    "for i in range(tenure):\n",
    "    loan_paid = math.floor(npf.ppmt(rate, i+1, tenure, -principal))\n",
    "    tot = tot + loan_paid\n",
    "    if(tot >= principal/2):\n",
    "        break\n",
    "    else:\n",
    "        count += 1\n",
    "print('Months required to pay atleast 50% of the Principal amount -', (count+1))"
   ]
  }
 ],
 "metadata": {
  "kernelspec": {
   "display_name": "Python 3 (ipykernel)",
   "language": "python",
   "name": "python3"
  },
  "language_info": {
   "codemirror_mode": {
    "name": "ipython",
    "version": 3
   },
   "file_extension": ".py",
   "mimetype": "text/x-python",
   "name": "python",
   "nbconvert_exporter": "python",
   "pygments_lexer": "ipython3",
   "version": "3.9.12"
  }
 },
 "nbformat": 4,
 "nbformat_minor": 5
}
